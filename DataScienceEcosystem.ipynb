{
 "cells": [
  {
   "cell_type": "markdown",
   "id": "2180faf3",
   "metadata": {},
   "source": [
    "# Data science tools and Ecosystem"
   ]
  },
  {
   "cell_type": "code",
   "execution_count": null,
   "id": "df10a713",
   "metadata": {},
   "outputs": [],
   "source": []
  },
  {
   "cell_type": "markdown",
   "id": "ee97575c",
   "metadata": {},
   "source": [
    "## Data Science Tools and Ecosystem are summarized"
   ]
  },
  {
   "cell_type": "markdown",
   "id": "947fb894",
   "metadata": {},
   "source": [
    "## Some of the key takeaways from the course\n",
    "**Objectives:**\n",
    "- Some of the popular languages that data scientists use\n",
    "- Some of the commonly used libraries used by data scientists \n",
    "- Examples of evaluating arthmetic expressions in python"
   ]
  },
  {
   "cell_type": "markdown",
   "id": "dd3826db",
   "metadata": {},
   "source": [
    "## Some of the popular languages that Data Scientists use are:\n",
    "1. Python\n",
    "2. R \n",
    "3. Julia "
   ]
  },
  {
   "cell_type": "markdown",
   "id": "811397b6",
   "metadata": {},
   "source": [
    "## Some of the commonly used libraries used by Data Scientists include:\n",
    "1. Pandas\n",
    "2. Numpy \n",
    "3. Matplotlib"
   ]
  },
  {
   "cell_type": "markdown",
   "id": "6dce7782",
   "metadata": {},
   "source": [
    "|Data Science Tools|ggplot2|Tableau|Jupyter|"
   ]
  },
  {
   "cell_type": "markdown",
   "id": "671c2e76",
   "metadata": {},
   "source": [
    "### Below are  few examples of evaluating arithmetic expressions in Python"
   ]
  },
  {
   "cell_type": "code",
   "execution_count": 3,
   "id": "90e2980c",
   "metadata": {},
   "outputs": [
    {
     "data": {
      "text/plain": [
       "17"
      ]
     },
     "execution_count": 3,
     "metadata": {},
     "output_type": "execute_result"
    }
   ],
   "source": [
    "(3*4)+5"
   ]
  },
  {
   "cell_type": "code",
   "execution_count": 8,
   "id": "6708ea4a",
   "metadata": {},
   "outputs": [
    {
     "name": "stdout",
     "output_type": "stream",
     "text": [
      "The result is:3.3333333333333335 hours\n"
     ]
    }
   ],
   "source": [
    "# First we write a mathetical formular to convert minutes into hours \n",
    "# one hours equal to 60 minutes \n",
    "# We divide 200 minutes by 60 to convert it to hours \n",
    "\n",
    "print(\"The result is:\" \"\" + str(200/60) + \" \" \"hours\" )"
   ]
  },
  {
   "cell_type": "markdown",
   "id": "7b77233b",
   "metadata": {},
   "source": [
    "## Ravery "
   ]
  },
  {
   "cell_type": "code",
   "execution_count": null,
   "id": "3c2f87b3",
   "metadata": {},
   "outputs": [],
   "source": []
  }
 ],
 "metadata": {
  "kernelspec": {
   "display_name": "Python 3 (ipykernel)",
   "language": "python",
   "name": "python3"
  },
  "language_info": {
   "codemirror_mode": {
    "name": "ipython",
    "version": 3
   },
   "file_extension": ".py",
   "mimetype": "text/x-python",
   "name": "python",
   "nbconvert_exporter": "python",
   "pygments_lexer": "ipython3",
   "version": "3.9.16"
  }
 },
 "nbformat": 4,
 "nbformat_minor": 5
}
